{
 "cells": [
  {
   "cell_type": "code",
   "execution_count": null,
   "metadata": {},
   "outputs": [],
   "source": []
  },
  {
   "cell_type": "code",
   "execution_count": 2,
   "metadata": {},
   "outputs": [],
   "source": [
    "\"\"\"\n",
    "This project was developed by Peter Chen, Rocky Duan, Pieter Abbeel for the Berkeley Deep RL Bootcamp, August 2017.\n",
    "Bootcamp website with slides and lecture videos: https://sites.google.com/view/deep-rl-bootcamp/.\n",
    "\n",
    "Code adapted from Stanford CS231N materials: http://cs231n.stanford.edu/\n",
    "\"\"\"\n",
    "\n",
    "\n",
    "# note to properly run this lab, you should execute all code blocks sequentially\n",
    "import chainer\n",
    "import chainer.functions as F\n",
    "import chainer.links as L\n",
    "from chainer import training\n",
    "from chainer.training import extensions\n",
    "\n",
    "from collections import namedtuple, defaultdict, deque\n",
    "\n",
    "import numpy as np\n",
    "\n",
    "%matplotlib inline\n",
    "\n",
    "import matplotlib\n",
    "import matplotlib.pyplot as plt"
   ]
  },
  {
   "cell_type": "markdown",
   "metadata": {},
   "source": [
    "## Introduction to Chainer\n",
    "\n",
    "Chainer can be understood as Numpy plus the ability to record the computation graph of numerical operations to enable Automatic Differentiation. (Chainer actually also offers many other things; for example, a Numpy equivalent library that runs on GPU, but we will ignore them for now)"
   ]
  },
  {
   "cell_type": "markdown",
   "metadata": {},
   "source": [
    "Let's illustrate how Chainer works by a simple 1D regression task.\n",
    "\n",
    "Suppose we have observations from the following model $y = w x + b + \\epsilon$ where $\\epsilon \\sim \\mathcal{N}(0, 0.1)$ and the task is to estimate the linear model parameters $w, b$ from data."
   ]
  },
  {
   "cell_type": "code",
   "execution_count": 3,
   "metadata": {},
   "outputs": [
    {
     "data": {
      "image/png": "[encoded data removed]",
      "text/plain": [
       "<Figure size 432x288 with 1 Axes>"
      ]
     },
     "metadata": {
      "needs_background": "light"
     },
     "output_type": "display_data"
    }
   ],
   "source": [
    "# first generate some observations\n",
    "true_a = 1.3\n",
    "true_b = 0.4\n",
    "data_x = (np.arange(100) / 99.0 - .5).astype(np.float32) # Chainer assumes all the cpu computation is done in float32\n",
    "data_y = (data_x * true_a + true_b + np.random.randn(*data_x.shape) * 0.1).astype(np.float32)\n",
    "_ = plt.scatter(data_x, data_y, c='b')"
   ]
  },
  {
   "cell_type": "markdown",
   "metadata": {},
   "source": [
    "Chainer provides an abstraction called `Link` that describe some computation and keeps track of parameters for it. For instance, a `Linear` link describes a linear map on input and keeps track of `w` and bias `b`."
   ]
  },
  {
   "cell_type": "code",
   "execution_count": 7,
   "metadata": {},
   "outputs": [
    {
     "name": "stdout",
     "output_type": "stream",
     "text": [
      "w: variable W([[0.63685447]])\n",
      "b: variable b([0.])\n",
      "Operations on chainer.Variable: variable([[123.636856]]), type: <class 'chainer.variable.Variable'>\n",
      "numpy arrays: [[0.63685447]] [[123.636856]]\n"
     ]
    }
   ],
   "source": [
    "model = L.Linear(in_size=1, out_size=1) # input is 1D data and output is also 1D data\n",
    "\n",
    "# Chainer will randomly initialize `w` and `b` for us.\n",
    "# we can take a look at their values\n",
    "print(\"w:\", model.W)\n",
    "print(\"b:\", model.b)\n",
    "\n",
    "# model.W and model.b have type `chainer.Variable`, \n",
    "#   which is a wrapper around Numpy array\n",
    "assert isinstance(model.W, chainer.Variable)\n",
    "\n",
    "# operations that involve `chainer.Variable` will produce\n",
    "#   `chainer.Variable` and this records the computation graph\n",
    "var_result = model.W + 123 # some random computation\n",
    "print(\"Operations on chainer.Variable: %s, type: %s\" % (var_result, type(var_result)))\n",
    "\n",
    "# the underlying numpy array can be accessed by `data` attribute\n",
    "print(\"numpy arrays:\", model.W.data, var_result.data)"
   ]
  },
  {
   "cell_type": "code",
   "execution_count": 8,
   "metadata": {},
   "outputs": [
    {
     "data": {
      "image/png": "[encoded data removed]",
      "text/plain": [
       "<Figure size 432x288 with 1 Axes>"
      ]
     },
     "metadata": {
      "needs_background": "light"
     },
     "output_type": "display_data"
    }
   ],
   "source": [
    "# A chainer link is a callable object. calling it performs the\n",
    "#   forward computation. (in this case, it performs Wx + b)\n",
    "model_y = model(data_x[:, None]) # chainer's link usually assumes input is [Batch Size, Input Dimension]\n",
    "# `model_y` is a chainer variable so we use `.data` to access its numpy array for plotting. It simply has the predicted output\n",
    "# we can plot the model's current fit in red. it should be terrible because we haven't trained it yet\n",
    "_ = plt.plot(data_x, model_y.data[:,0], c='r')\n",
    "_ = plt.scatter(data_x, data_y, c='b')\n",
    "_ = plt.title(\"Initial model\")"
   ]
  },
  {
   "cell_type": "code",
   "execution_count": 11,
   "metadata": {},
   "outputs": [
    {
     "name": "stdout",
     "output_type": "stream",
     "text": [
      "loss variable(0.5051484704017639)\n",
      "dloss/dW [[-0.33470789]]\n"
     ]
    }
   ],
   "source": [
    "# now let's walk through how to perform forward computation\n",
    "#  and use AD to get gradients\n",
    "\n",
    "# first we clear the gradients that are stored in the model\n",
    "model.cleargrads()\n",
    "# as we have seen we can perform forward computation by calling the link\n",
    "model_y = model(data_x[:, None])\n",
    "\n",
    "# remember that `model_y` is a chainer variable. to operate on chainer variable\n",
    "#    we will use functions from chainer.functions to operate on those objects.\n",
    "loss = F.mean(F.square(model_y - data_y[:, None]))\n",
    "# `loss` is a scalar chainer variable\n",
    "assert isinstance(loss, chainer.Variable)\n",
    "print(\"loss\", loss)\n",
    "# calculating gradients d loss /d params is as simple as\n",
    "loss.backward()\n",
    "\n",
    "# we can inspect the gradient of loss with respect to W\n",
    "print(\"dloss/dW\", model.W.grad)"
   ]
  },
  {
   "cell_type": "markdown",
   "metadata": {},
   "source": [
    "Now that we know how to calculate gradients, we can code up a simple loop to perform gradient descent to train this model:\n",
    "\n",
    "(Hint: if you run into weird problems, maybe the state has been messed up and you can try re-runing all the code blocks from the beginning)"
   ]
  },
  {
   "cell_type": "code",
   "execution_count": 11,
   "metadata": {},
   "outputs": [
    {
     "name": "stdout",
     "output_type": "stream",
     "text": [
      "Itr 0 loss: variable(0.370826)\n",
      "Itr 25 loss: variable(0.16170134)\n",
      "Itr 50 loss: variable(0.16168201)\n",
      "Itr 75 loss: variable(0.1616818)\n"
     ]
    },
    {
     "data": {
      "image/png": "[encoded data removed]",
      "text/plain": [
       "<Figure size 432x288 with 1 Axes>"
      ]
     },
     "metadata": {
      "needs_background": "light"
     },
     "output_type": "display_data"
    },
    {
     "data": {
      "image/png": "[encoded data removed]",
      "text/plain": [
       "<Figure size 432x288 with 1 Axes>"
      ]
     },
     "metadata": {
      "needs_background": "light"
     },
     "output_type": "display_data"
    }
   ],
   "source": [
    "# now we can perform gradient descent to improve this model\n",
    "model = L.Linear(in_size=1, out_size=1)\n",
    "losses = []\n",
    "\n",
    "for i in range(100):\n",
    "    model.cleargrads()\n",
    "    loss = F.mean(F.square(model(data_x[:, None]) - data_y[:, None]))\n",
    "    losses.append(float(loss.data))\n",
    "    ## *** YOUR CODE HERE TO PERFORM GRADIENT DESCENT ***\n",
    "    ## Hint: you could access gradients with model.W.grad, model.b.grad\n",
    "    loss.backward()\n",
    "    model.W.data[:] = model.W.data[:] - model.W.grad\n",
    "    model.b.data[:] = model.b.data[:] - model.b.grad #We can add learning rate as well here.\n",
    "    ## Hint2: you could write data into a parameter with model.W.data[:] = some_numpy_array\n",
    "    ## Hint3: if your model doesn't learn, remember to try different learning rates\n",
    "    if i % 25 == 0:\n",
    "        print(\"Itr\", i, \"loss:\", loss)\n",
    "plt.plot(np.array(losses))\n",
    "plt.title(\"Learning curve\")\n",
    "plt.figure()\n",
    "plt.plot(data_x, model(data_x[:, None])[:,0].data, c='r')\n",
    "plt.scatter(data_x, data_y, c='b')\n",
    "_ = plt.title(\"Trained model fitness\")\n"
   ]
  },
  {
   "cell_type": "markdown",
   "metadata": {},
   "source": [
    "## Train your first deep model\n",
    "\n",
    "Now we have learned the basics of Chainer. We can use it to train a deep model to classify MNIST digits. We will train a model on the MNIST dataset because the dataset is small.\n",
    "\n",
    "First we load the data and see what the images look like:"
   ]
  },
  {
   "cell_type": "code",
   "execution_count": 12,
   "metadata": {
    "scrolled": false
   },
   "outputs": [
    {
     "name": "stderr",
     "output_type": "stream",
     "text": [
      "Downloading from http://yann.lecun.com/exdb/mnist/train-images-idx3-ubyte.gz...\n",
      "Downloading from http://yann.lecun.com/exdb/mnist/train-labels-idx1-ubyte.gz...\n",
      "Downloading from http://yann.lecun.com/exdb/mnist/t10k-images-idx3-ubyte.gz...\n",
      "Downloading from http://yann.lecun.com/exdb/mnist/t10k-labels-idx1-ubyte.gz...\n"
     ]
    },
    {
     "name": "stdout",
     "output_type": "stream",
     "text": [
      "train[i][0] is the ith image that's flattened, and has shape: (784,)\n",
      "train[i][1] is the ith image's label, such as: 3\n"
     ]
    },
    {
     "data": {
      "image/png": "[encoded data removed]",
      "text/plain": [
       "<Figure size 432x288 with 1 Axes>"
      ]
     },
     "metadata": {
      "needs_background": "light"
     },
     "output_type": "display_data"
    },
    {
     "data": {
      "image/png": "[encoded data removed]",
      "text/plain": [
       "<Figure size 432x288 with 1 Axes>"
      ]
     },
     "metadata": {
      "needs_background": "light"
     },
     "output_type": "display_data"
    }
   ],
   "source": [
    "train, test = chainer.datasets.get_mnist()\n",
    "# use train[data_point_index] to access data\n",
    "print(\"train[i][0] is the ith image that's flattened, and has shape:\", train[12][0].shape)\n",
    "print(\"train[i][1] is the ith image's label, such as:\", train[12][1])\n",
    "# here we visualize two of them\n",
    "plt.imshow(train[12][0].reshape([28, 28,]))\n",
    "plt.title(\"Label: %s\" % train[12][1])\n",
    "plt.figure()\n",
    "plt.imshow(train[42][0].reshape([28, 28,]))\n",
    "_ = plt.title(\"Label: %s\" % train[42][1])"
   ]
  },
  {
   "cell_type": "markdown",
   "metadata": {},
   "source": [
    "Next we will provide some boilerplate code and train a linear classifier as an example:"
   ]
  },
  {
   "cell_type": "code",
   "execution_count": 23,
   "metadata": {},
   "outputs": [
    {
     "name": "stdout",
     "output_type": "stream",
     "text": [
      "loss: 2.3184103965759277; accuracy: 0.125\n",
      "loss: 0.5051763427257537; accuracy: 0.8925\n",
      "loss: 0.37761026263237; accuracy: 0.915\n",
      "loss: 0.4168584471940994; accuracy: 0.885\n",
      "loss: 0.40811106383800505; accuracy: 0.8975\n",
      "loss: 0.29963171273469924; accuracy: 0.9275\n",
      "loss: 0.2884334993362427; accuracy: 0.92\n",
      "loss: 0.35617738276720046; accuracy: 0.8925\n",
      "loss: 0.35675045728683474; accuracy: 0.89\n",
      "loss: 0.29333873599767685; accuracy: 0.91\n",
      "loss: 0.3549274310469627; accuracy: 0.9\n",
      "loss: 0.3397462633252144; accuracy: 0.9075\n",
      "loss: 0.3502458676695824; accuracy: 0.8975\n",
      "loss: 0.32299701184034346; accuracy: 0.9275\n",
      "loss: 0.31436856240034106; accuracy: 0.91\n",
      "loss: 0.32418561816215513; accuracy: 0.9125\n",
      "loss: 0.2192750295996666; accuracy: 0.94\n",
      "loss: 0.23224639415740966; accuracy: 0.9275\n",
      "loss: 0.276546958386898; accuracy: 0.9275\n",
      "loss: 0.2822664651274681; accuracy: 0.915\n",
      "loss: 0.267544312775135; accuracy: 0.9275\n",
      "loss: 0.2866073527932167; accuracy: 0.925\n",
      "loss: 0.24194530159235; accuracy: 0.925\n",
      "loss: 0.2830410090088844; accuracy: 0.9175\n",
      "loss: 0.27268281698226926; accuracy: 0.9325\n",
      "loss: 0.3064613592624664; accuracy: 0.9075\n"
     ]
    }
   ],
   "source": [
    "def run(model, batchsize=16, num_epochs=2):\n",
    "    \n",
    "    optimizer = chainer.optimizers.Adam() # we will use chainer's Adam implementation instead of writing our own gradient based optimization\n",
    "    optimizer.setup(model)\n",
    "    stats = defaultdict(lambda: deque(maxlen=25))\n",
    "    for epoch in range(num_epochs):\n",
    "        train_iter = chainer.iterators.SerialIterator(train, batchsize, repeat=False, shuffle=True)\n",
    "        test_iter = chainer.iterators.SerialIterator(test, batchsize, repeat=False, shuffle=False)\n",
    "        \n",
    "        for itr, batch in enumerate(train_iter):\n",
    "            xs = np.concatenate([datum[0][None, :] for datum in batch]) #Get the X from the batch\n",
    "            ys = np.array([datum[1] for datum in batch]) #Get Y from the batch\n",
    "\n",
    "            logits = model(xs) #Predictions\n",
    "            #print(logits)\n",
    "            loss = F.softmax_cross_entropy(logits, ys) #Get Loss\n",
    "            model.cleargrads()\n",
    "            loss.backward() #Compute the gradients\n",
    "            optimizer.update()\n",
    "            \n",
    "            # calculate stats\n",
    "            stats[\"loss\"].append(float(loss.data))\n",
    "            stats[\"accuracy\"].append(float((logits.data.argmax(1) == ys).sum() / batchsize))\n",
    "            if itr % 300 == 0:\n",
    "                print(\"; \".join(\"%s: %s\" % (k, np.mean(vs)) for k, vs in stats.items()))\n",
    "\n",
    "# try a simple linear model\n",
    "run(L.Linear(None, 10))"
   ]
  },
  {
   "cell_type": "markdown",
   "metadata": {},
   "source": [
    "Next we will try to improve performance by training an MLP instead. A partial implementation is provided for you to fill in:"
   ]
  },
  {
   "cell_type": "code",
   "execution_count": 24,
   "metadata": {},
   "outputs": [
    {
     "name": "stdout",
     "output_type": "stream",
     "text": [
      "loss: 2.3035130500793457; accuracy: 0.1875\n",
      "loss: 0.3630396270751953; accuracy: 0.8875\n",
      "loss: 0.22283537745475768; accuracy: 0.9225\n",
      "loss: 0.22772964119911193; accuracy: 0.93\n",
      "loss: 0.15278982788324355; accuracy: 0.945\n",
      "loss: 0.14069399297237395; accuracy: 0.9475\n",
      "loss: 0.15913631975650788; accuracy: 0.9525\n",
      "loss: 0.15890302002429962; accuracy: 0.96\n",
      "loss: 0.1534151890873909; accuracy: 0.9525\n",
      "loss: 0.18807861894369127; accuracy: 0.94\n",
      "loss: 0.1372356879711151; accuracy: 0.95\n",
      "loss: 0.09252570658922195; accuracy: 0.9675\n",
      "loss: 0.08795127779245376; accuracy: 0.9725\n",
      "loss: 0.16436683833599092; accuracy: 0.955\n",
      "loss: 0.08286363869905472; accuracy: 0.9675\n",
      "loss: 0.08284819185733795; accuracy: 0.9725\n",
      "loss: 0.03842730939388275; accuracy: 0.99\n",
      "loss: 0.0728806722164154; accuracy: 0.975\n",
      "loss: 0.044206061363220216; accuracy: 0.99\n",
      "loss: 0.06463100135326386; accuracy: 0.985\n",
      "loss: 0.12608774960041047; accuracy: 0.9575\n",
      "loss: 0.09019347012043; accuracy: 0.975\n",
      "loss: 0.10948706775903702; accuracy: 0.965\n",
      "loss: 0.10981949567794799; accuracy: 0.9675\n",
      "loss: 0.12334068655967713; accuracy: 0.97\n",
      "loss: 0.07064136624336242; accuracy: 0.975\n"
     ]
    }
   ],
   "source": [
    "class MLP(chainer.Chain):\n",
    "\n",
    "    def __init__(self, n_units, n_out):\n",
    "        super(MLP, self).__init__()\n",
    "        with self.init_scope():\n",
    "            # the size of the inputs to each layer will be inferred\n",
    "            self.l1 = L.Linear(None, n_units)  # n_in -> n_units\n",
    "            self.l2 = L.Linear(None, n_units)  # n_units -> n_units\n",
    "            self.l3 = L.Linear(None, n_out)  # n_units -> n_out\n",
    "\n",
    "    def __call__(self, x):\n",
    "        # *** YOUR CODE HERE TO BUILD AN MLP W/ self.l1, self.l2, self.l3 ***\n",
    "        # \n",
    "        # Hint: you should make use of non-linearities / activation functions\n",
    "        #     https://docs.chainer.org/en/stable/reference/functions.html#activation-functions\n",
    "        x = F.relu(self.l1(x))\n",
    "        x = F.relu(self.l2(x))\n",
    "        x = self.l3(x) #Softmax entropy loss function takes care of the softmax on the last layer\n",
    "        return x\n",
    "run(MLP(200, 10))"
   ]
  },
  {
   "cell_type": "markdown",
   "metadata": {},
   "source": [
    "Next you should try to implement logging test loss and see if the model is overfitting."
   ]
  },
  {
   "cell_type": "code",
   "execution_count": 25,
   "metadata": {},
   "outputs": [
    {
     "name": "stdout",
     "output_type": "stream",
     "text": [
      "loss: 2.3074066638946533; accuracy: 0.125; test_loss: 2.0783389; test_accuracy: 0.5\n",
      "loss: 0.4142601013183594; accuracy: 0.8725; test_loss: 0.26321274; test_accuracy: 0.875\n",
      "loss: 0.285266318321228; accuracy: 0.91; test_loss: 0.11800738; test_accuracy: 1.0\n",
      "loss: 0.25977061688899994; accuracy: 0.9225; test_loss: 0.44364962; test_accuracy: 0.875\n",
      "loss: 0.2833016157150269; accuracy: 0.9175; test_loss: 0.33783698; test_accuracy: 0.9375\n",
      "loss: 0.1911024495959282; accuracy: 0.9425; test_loss: 0.042380616; test_accuracy: 1.0\n",
      "loss: 0.20402181267738342; accuracy: 0.9475; test_loss: 0.1965766; test_accuracy: 0.9375\n",
      "loss: 0.2087438952922821; accuracy: 0.945; test_loss: 0.027236715; test_accuracy: 1.0\n",
      "loss: 0.13390836119651794; accuracy: 0.9625; test_loss: 0.1586603; test_accuracy: 1.0\n",
      "loss: 0.13185857474803925; accuracy: 0.97; test_loss: 0.13685395; test_accuracy: 0.9375\n",
      "loss: 0.19665823340415955; accuracy: 0.95; test_loss: 0.11339228; test_accuracy: 1.0\n",
      "loss: 0.16846222251653672; accuracy: 0.9475; test_loss: 0.23674914; test_accuracy: 0.9375\n",
      "loss: 0.10239617824554444; accuracy: 0.9625; test_loss: 0.104955405; test_accuracy: 0.9375\n",
      "loss: 0.12001099586486816; accuracy: 0.96; test_loss: 0.048877656; test_accuracy: 1.0\n",
      "loss: 0.14151816606521606; accuracy: 0.955; test_loss: 0.0030262768; test_accuracy: 1.0\n",
      "loss: 0.1045712724328041; accuracy: 0.965; test_loss: 0.049450845; test_accuracy: 1.0\n",
      "loss: 0.03597613990306854; accuracy: 0.9875; test_loss: 0.012405962; test_accuracy: 1.0\n",
      "loss: 0.10316147923469543; accuracy: 0.9625; test_loss: 0.029222026; test_accuracy: 1.0\n",
      "loss: 0.10563807398080825; accuracy: 0.9675; test_loss: 0.04783897; test_accuracy: 1.0\n",
      "loss: 0.05900538384914398; accuracy: 0.98; test_loss: 0.0070489347; test_accuracy: 1.0\n",
      "loss: 0.08292797833681106; accuracy: 0.9725; test_loss: 0.01372467; test_accuracy: 1.0\n",
      "loss: 0.11565976619720458; accuracy: 0.97; test_loss: 0.009115115; test_accuracy: 1.0\n",
      "loss: 0.11099551349878312; accuracy: 0.9625; test_loss: 0.042401522; test_accuracy: 1.0\n",
      "loss: 0.09801201581954956; accuracy: 0.97; test_loss: 0.00247553; test_accuracy: 1.0\n",
      "loss: 0.1402536678314209; accuracy: 0.9725; test_loss: 0.6392517; test_accuracy: 0.9375\n",
      "loss: 0.09748763144016266; accuracy: 0.975; test_loss: 0.0032691658; test_accuracy: 1.0\n"
     ]
    }
   ],
   "source": [
    "def better_run(model, batchsize=16, num_epochs=2):\n",
    "\n",
    "    optimizer = chainer.optimizers.Adam() # we will use chainer's Adam implementation instead of writing our own gradient based optimization\n",
    "    optimizer.setup(model)\n",
    "    \n",
    "    stats = defaultdict(lambda: deque(maxlen=25))\n",
    "    for epoch in range(num_epochs):\n",
    "        train_iter = chainer.iterators.SerialIterator(train, batchsize, repeat=False, shuffle=True)\n",
    "        for itr, batch in enumerate(train_iter):\n",
    "            xs = np.concatenate([datum[0][None, :] for datum in batch])\n",
    "            ys = np.array([datum[1] for datum in batch])\n",
    "\n",
    "            logits = model(xs)\n",
    "\n",
    "            loss = F.softmax_cross_entropy(logits, ys)\n",
    "            model.cleargrads()\n",
    "            loss.backward()\n",
    "            optimizer.update()\n",
    "            \n",
    "            # calculate stats\n",
    "            stats[\"loss\"].append(float(loss.data))\n",
    "            stats[\"accuracy\"].append(float((logits.data.argmax(1) == ys).sum() / batchsize))\n",
    "            if itr % 300 == 0:\n",
    "                test_iter = chainer.iterators.SerialIterator(test, batchsize, repeat=False, shuffle=False)\n",
    "                # *** YOUR CODE implement logging of stats on test set ***\n",
    "                xs = np.concatenate([datum[0][None, :] for datum in batch])\n",
    "                ys = np.array([datum[1] for datum in batch])\n",
    "                logits = model(xs)\n",
    "                stats[\"test_loss\"] = F.softmax_cross_entropy(logits, ys).data\n",
    "                stats[\"test_accuracy\"] = F.accuracy(logits, ys).data\n",
    "                print(\"; \".join(\"%s: %s\" % (k, np.mean(vs)) for k, vs in stats.items()))\n",
    "\n",
    "better_run(MLP(200, 10))"
   ]
  },
  {
   "cell_type": "markdown",
   "metadata": {},
   "source": [
    "Try different variants!\n",
    "\n",
    "- Does using a ConvNet improve performance (reduce overfitting?)\n",
    "- Try changing the learning rate and observe the effect\n",
    "- Does the model train if you give it correlated gradients? (consecutively sample many batches of \"1\", then many batches of \"2\", ... etc"
   ]
  }
 ],
 "metadata": {
  "kernelspec": {
   "display_name": "Python 3",
   "language": "python",
   "name": "python3"
  },
  "language_info": {
   "codemirror_mode": {
    "name": "ipython",
    "version": 3
   },
   "file_extension": ".py",
   "mimetype": "text/x-python",
   "name": "python",
   "nbconvert_exporter": "python",
   "pygments_lexer": "ipython3",
   "version": "3.7.3"
  }
 },
 "nbformat": 4,
 "nbformat_minor": 1
}
